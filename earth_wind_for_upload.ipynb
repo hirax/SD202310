{
 "cells": [
  {
   "cell_type": "markdown",
   "id": "1e0d922a",
   "metadata": {},
   "source": [
    "# 3D Wind flow on the earth"
   ]
  },
  {
   "cell_type": "code",
   "execution_count": null,
   "id": "f7cc538c",
   "metadata": {},
   "outputs": [],
   "source": [
    "# conda install -c conda-forge matplotlib\n",
    "# conda install -c conda-forge cartopy\n",
    "# conda install -c conda-forge netcdf4"
   ]
  },
  {
   "cell_type": "code",
   "execution_count": null,
   "id": "41485a26",
   "metadata": {},
   "outputs": [],
   "source": [
    "from netCDF4 import Dataset\n",
    "import numpy as np\n",
    "import matplotlib.pyplot as plt\n",
    "import cartopy.crs as ccrs\n",
    "import cartopy.feature as cfeature\n",
    "\n",
    "data = Dataset('MERRA2_300.tavg1_2d_slv_Nx.20040929.nc4',mode='r')\n",
    "print(data)"
   ]
  },
  {
   "cell_type": "markdown",
   "id": "41dfb1fd",
   "metadata": {},
   "source": [
    "## 風速算出・欠損値対応・風の流れの描画関数などを定義する"
   ]
  },
  {
   "cell_type": "code",
   "execution_count": null,
   "id": "e8ca6193",
   "metadata": {},
   "outputs": [],
   "source": [
    "def get(atr): # 属性名からデータを取得\n",
    "    return data.variables[atr]\n",
    "\n",
    "def get_uv(atr): # 属性名にUやVを追加\n",
    "    return(get('U'+atr), get('V'+atr))\n",
    "\n",
    "def fill_with_nan(x): # 欠損部分は0にする\n",
    "    x_nans = x[:]; x_nans[x==x._FillValue]=0\n",
    "    return x_nans\n",
    "\n",
    "def make_ws(u, v): # 欠損部分対応や風速算出\n",
    "    u_nans = fill_with_nan(u); v_nans = fill_with_nan(v)\n",
    "    wind_speed = np.sqrt(u_nans**2+v_nans**2)\n",
    "    return (u_nans, v_nans, wind_speed)"
   ]
  },
  {
   "cell_type": "code",
   "execution_count": null,
   "id": "b8d6896f",
   "metadata": {},
   "outputs": [],
   "source": [
    "# 最初は全球・速度表示"
   ]
  },
  {
   "cell_type": "code",
   "execution_count": null,
   "id": "4c28d6de",
   "metadata": {},
   "outputs": [],
   "source": [
    "def draw_map(u, v,        # 風ベクトル(u:経度方向, v:緯度方向)\n",
    "             c,           # 色\n",
    "             s,           # スケール \n",
    "             s_height,    # 人工衛星の高さ (m)\n",
    "             is_draw_map, # 地図を描くか・否か\n",
    "             filename):   # 画像保存するファイル名\n",
    "    # 全球表示する場合\n",
    "    fig = plt.figure(figsize=(40,40),facecolor='black')\n",
    "    ax = plt.axes(projection=ccrs.NearsidePerspective(\n",
    "          central_longitude=137.0,\n",
    "          central_latitude=0,\n",
    "          satellite_height=s_height, # 100000000\n",
    "          false_easting=0,\n",
    "          false_northing=0,\n",
    "          globe=None))\n",
    "    if is_draw_map:\n",
    "        ax.add_feature(cfeature.OCEAN)\n",
    "        ax.add_feature(cfeature.LAND)\n",
    "        ax.add_feature(cfeature.LAKES)\n",
    "        ax.add_feature(cfeature.RIVERS)\n",
    "        ax.add_feature(cfeature.BORDERS)\n",
    "        ax.coastlines(resolution=\"110m\",linewidth=1)\n",
    "        ax.gridlines(linestyle='--',color='black')\n",
    "    qv = plt.quiver(lon, lat, u, v, c,\n",
    "        transform=ccrs.PlateCarree(),\n",
    "        scale=s, alpha = 1.0,cmap='coolwarm')\n",
    "    fig.savefig(filename, format='png', dpi=120)"
   ]
  },
  {
   "cell_type": "markdown",
   "id": "dd3192eb",
   "metadata": {},
   "source": [
    "## 風速算出・欠損値対応・風の流れの描画関数などを定義する"
   ]
  },
  {
   "cell_type": "code",
   "execution_count": null,
   "id": "719a8a3d",
   "metadata": {},
   "outputs": [],
   "source": [
    "winds = [\n",
    "    {'height':\"2M\",   'file':\"2M.png\",   'map':True, 'scale':200, 'alt_in_m':2},\n",
    "    #{'height':\"10M\",  'file':\"10M.png\",  'map':False, 'scale':200, 'alt_in_m':10+10},\n",
    "    #{'height':\"50M\",  'file':\"50M.png\",  'map':False, 'scale':200, 'alt_in_m':50+10},\n",
    "    {'height':\"850\",  'file':\"850.png\",  'map':True, 'scale':200, 'alt_in_m':1500},      # 850hPaは高度約1,500m\n",
    "    {'height':\"500\",  'file':\"500.png\",  'map':True, 'scale':200, 'alt_in_m':5500},      # 5,500m\n",
    "    {'height':\"250\",  'file':\"250.png\",  'map':True, 'scale':200, 'alt_in_m':14000}      # 14,000m\n",
    "]"
   ]
  },
  {
   "cell_type": "code",
   "execution_count": null,
   "id": "1926b3f8",
   "metadata": {},
   "outputs": [],
   "source": [
    "s = 2 # データ抽出の間隔\n",
    "lon, lat = np.meshgrid(get('lon'), # 経度\n",
    "                       get('lat')) # 緯度\n",
    "lon = lon[::s,::s]; lat = lat[::s,::s]\n",
    "# 高さごとの風速・気温情報を可視化する\n",
    "for w in winds:\n",
    "    u, v = get_uv(w['height']); u, v, ws = make_ws(u, v) \n",
    "    u  = u[0,::s,::s]; v  = v[0,::s,::s]; ws = ws[0,::s,::s]\n",
    "    draw_map(u, v, ws, w['scale'], 100000000000, w['map'], w['file'])\n",
    "    # 気温を可視化する場合\n",
    "    #t  = get('T'+w['height']); t  = t[0,::s,::s]\n",
    "    #t  = (t-np.min(t))/(np.max(t)-np.min(t))\n",
    "    #draw_map(u, v, t, w['scale'], 100000000000, w['map'], w['file'])"
   ]
  },
  {
   "cell_type": "markdown",
   "id": "838ebbfa",
   "metadata": {},
   "source": [
    "## 本記事では未採用（もし画像合成をしたい場合用）"
   ]
  },
  {
   "cell_type": "code",
   "execution_count": null,
   "id": "d1be3e18",
   "metadata": {},
   "outputs": [],
   "source": [
    "from PIL import Image\n",
    "margin = 200\n",
    "background = Image.open(\"2M.png\")\n",
    "for i, w in enumerate(winds):\n",
    "    if w['height'] != '2M':\n",
    "        foreground = Image.open(w['file'])\n",
    "        foreground = foreground.resize(\n",
    "            (foreground.width+margin*i*2, foreground.height+margin*i*2) )\n",
    "        background.putalpha(255)\n",
    "        foreground.putalpha(100)\n",
    "        background.paste(foreground,(-margin*i,-margin*i),foreground)\n",
    "plt.imshow(background)\n",
    "\n",
    "background.save(\"total.png\")"
   ]
  },
  {
   "cell_type": "markdown",
   "id": "1398bae9",
   "metadata": {},
   "source": [
    "## 次はメルカトルでも描いてみる"
   ]
  },
  {
   "cell_type": "code",
   "execution_count": null,
   "id": "5205fd86",
   "metadata": {},
   "outputs": [],
   "source": [
    "def draw_map(u, v,        # 風ベクトル\n",
    "             c,          # 色\n",
    "             s,           # スケール \n",
    "             s_height,    # 人工衛星の高さ  \n",
    "             is_draw_map, # 地図を描くか \n",
    "             filename):\n",
    "    \n",
    "    # メルカトル図法\n",
    "    fig = plt.figure(figsize=(40,40),facecolor='black')\n",
    "    ax = plt.axes(projection=ccrs.Mercator(central_longitude=135))\n",
    "    # メルカトル図法(ここまで)\n",
    "    \n",
    "    if is_draw_map:\n",
    "        ax.add_feature(cfeature.OCEAN)\n",
    "        ax.add_feature(cfeature.LAND)\n",
    "        ax.add_feature(cfeature.LAKES)\n",
    "        ax.add_feature(cfeature.RIVERS)\n",
    "        ax.add_feature(cfeature.BORDERS)\n",
    "        ax.coastlines(resolution=\"110m\",linewidth=1)\n",
    "        ax.gridlines(linestyle='--',color='black')\n",
    "        #plt.contourf(lon, lat, ws,\n",
    "        #     transform=ccrs.PlateCarree(),cmap=plt.cm.jet)\n",
    "    qv = plt.quiver(lon, lat, \n",
    "                    u, v, \n",
    "                    c,  # 色\n",
    "        transform=ccrs.PlateCarree(),\n",
    "        scale=s, alpha = 1.0,cmap='coolwarm') # cmap='YlOrRd'\n",
    "    fig.savefig(filename, format='png', dpi=120)"
   ]
  },
  {
   "cell_type": "code",
   "execution_count": null,
   "id": "6a5d021b",
   "metadata": {},
   "outputs": [],
   "source": [
    "lon, lat = np.meshgrid(get('lon'), # 経度\n",
    "                       get('lat')) # 緯度\n",
    "s = 5 # データ飛ばし\n",
    "lon = lon[::s,::s]\n",
    "lat = lat[::s,::s]"
   ]
  },
  {
   "cell_type": "code",
   "execution_count": null,
   "id": "155ae18c",
   "metadata": {},
   "outputs": [],
   "source": [
    "winds = [\n",
    "    {'height':\"2M\",   'file':\"2M.png\",   'map':True, 'scale':1000},\n",
    "#\"10M\"\"50M\"は\"T10M\"\"T50M\"がない\n",
    "#    {'height':\"10M\",  'file':\"10M.png\",  'map':False, 'scale':50},\n",
    "#    {'height':\"50M\",  'file':\"50M.png\",  'map':False, 'scale':50},\n",
    "    {'height':\"850\",  'file':\"850.png\",  'map':True, 'scale':1000}, # 850hPaは高度約1,500m\n",
    "    {'height':\"500\",  'file':\"500.png\",  'map':True, 'scale':1000},  # 5,500m\n",
    "    {'height':\"250\",  'file':\"250.png\",  'map':True, 'scale':1000}   # 14,000m\n",
    "]\n",
    "for w in winds:\n",
    "    #u, v = get_uv(w['height'])\n",
    "    u, v = get_uv(w['height'])\n",
    "    u, v, ws = make_ws(u, v)\n",
    "    t  = get('T'+w['height'])\n",
    "    u  = u[0,::s,::s]\n",
    "    v  = v[0,::s,::s]\n",
    "    ws = ws[0,::s,::s]\n",
    "    t  = t[0,::s,::s]\n",
    "    t  = (t-np.min(t))/(np.max(t)-np.min(t))\n",
    "    #draw_map(u, v, t, w['scale'], 100000000000, w['map'], w['file'])\n",
    "    draw_map(u, v, ws, w['scale'], 100000000000, w['map'], w['file'])"
   ]
  },
  {
   "cell_type": "markdown",
   "id": "70b9fb98",
   "metadata": {},
   "source": [
    "## 日本を拡大してみる、温度を使った色にする"
   ]
  },
  {
   "cell_type": "code",
   "execution_count": null,
   "id": "801645fd",
   "metadata": {},
   "outputs": [],
   "source": [
    "def draw_map(u, v,        # 風ベクトル\n",
    "             c,          # 色\n",
    "             s,           # スケール \n",
    "             s_height,    # 人工衛星の高さ  \n",
    "             is_draw_map, # 地図を描くか \n",
    "             filename):\n",
    "\n",
    "    # ミラー図法\n",
    "    fig = plt.figure(figsize=(20,20),facecolor='black')\n",
    "    ax = plt.axes(projection=ccrs.Miller())\n",
    "    ax.set_extent([120, 150, 20, 50])\n",
    "    # ミラー図法(ここまで)\n",
    "\n",
    "    if is_draw_map:\n",
    "        ax.add_feature(cfeature.OCEAN)\n",
    "        ax.add_feature(cfeature.LAND)\n",
    "        ax.add_feature(cfeature.LAKES)\n",
    "        ax.add_feature(cfeature.RIVERS)\n",
    "        ax.add_feature(cfeature.BORDERS)\n",
    "        ax.coastlines(resolution=\"110m\",linewidth=1)\n",
    "        ax.gridlines(linestyle='--',color='black')\n",
    "        #plt.contourf(lon, lat, ws,\n",
    "        #     transform=ccrs.PlateCarree(),cmap=plt.cm.jet)\n",
    "    qv = plt.quiver(lon, lat, \n",
    "                    u, v, \n",
    "                    c,  # 色\n",
    "        transform=ccrs.PlateCarree(),\n",
    "        scale=s, alpha = 1.0,cmap='coolwarm') # cmap='YlOrRd'\n",
    "\n",
    "    fig.savefig(filename, format='png', dpi=120)"
   ]
  },
  {
   "cell_type": "code",
   "execution_count": null,
   "id": "cd217097",
   "metadata": {},
   "outputs": [],
   "source": [
    "lon, lat = np.meshgrid(get('lon'), # 経度\n",
    "                       get('lat')) # 緯度\n",
    "s = 1 # データ飛ばし\n",
    "lon = lon[::s,::s]\n",
    "lat = lat[::s,::s]"
   ]
  },
  {
   "cell_type": "code",
   "execution_count": null,
   "id": "bbb6045c",
   "metadata": {},
   "outputs": [],
   "source": [
    "winds = [\n",
    "    {'height':\"2M\",   'file':\"2M.png\",   'map':True, 'scale':200},\n",
    "#\"10M\"\"50M\"は\"T10M\"\"T50M\"がない\n",
    "#    {'height':\"10M\",  'file':\"10M.png\",  'map':False, 'scale':50},\n",
    "#    {'height':\"50M\",  'file':\"50M.png\",  'map':False, 'scale':50},\n",
    "    {'height':\"850\",  'file':\"850.png\",  'map':True, 'scale':200}, # 850hPaは高度約1,500m\n",
    "    {'height':\"500\",  'file':\"500.png\",  'map':True, 'scale':200},  # 5,500m\n",
    "    {'height':\"250\",  'file':\"250.png\",  'map':True, 'scale':200}   # 14,000m\n",
    "]\n",
    "for w in winds:\n",
    "    u, v = get_uv(w['height'])\n",
    "    u, v, ws = make_ws(u, v)\n",
    "    t  = get('T'+w['height'])\n",
    "    u  = u[0,::s,::s]\n",
    "    v  = v[0,::s,::s]\n",
    "    ws = ws[0,::s,::s]\n",
    "    t  = t[0,::s,::s]\n",
    "    t  = (t-np.min(t))/(np.max(t)-np.min(t))\n",
    "    draw_map(u, v, t, w['scale'], 100000000000, w['map'], w['file'])\n",
    "    #draw_map(u, v, ws, w['scale'], 100000000000, w['map'], w['file'])\n"
   ]
  },
  {
   "cell_type": "markdown",
   "id": "a1c8266c",
   "metadata": {},
   "source": [
    "## Google Earthでの可視化用"
   ]
  },
  {
   "cell_type": "code",
   "execution_count": null,
   "id": "7d83de40",
   "metadata": {},
   "outputs": [],
   "source": [
    "lon, lat = np.meshgrid(get('lon'), # 経度\n",
    "                       get('lat')) # 緯度\n",
    "s = 3 # データ飛ばし(detailなら1、全体なら3)\n",
    "lon = lon[::s,::s]\n",
    "lat = lat[::s,::s]"
   ]
  },
  {
   "cell_type": "code",
   "execution_count": null,
   "id": "50d98493",
   "metadata": {},
   "outputs": [],
   "source": [
    "winds = [\n",
    "    {'height':\"2M\",   'file':\"2M.png\",   'map':True, 'scale':200, 'alt_in_m':2+10},\n",
    "    {'height':\"10M\",  'file':\"10M.png\",  'map':False, 'scale':200, 'alt_in_m':10+10},\n",
    "    {'height':\"50M\",  'file':\"50M.png\",  'map':False, 'scale':200, 'alt_in_m':50+10},\n",
    "    {'height':\"850\",  'file':\"850.png\",  'map':True, 'scale':200, 'alt_in_m':1500}, # 850hPaは高度約1,500m\n",
    "    {'height':\"500\",  'file':\"500.png\",  'map':True, 'scale':200, 'alt_in_m':5500},  # 5,500m\n",
    "    {'height':\"250\",  'file':\"250.png\",  'map':True, 'scale':200, 'alt_in_m':14000}   # 14,000m\n",
    "]\n",
    "for w in winds:\n",
    "    u, v = get_uv(w['height'])\n",
    "    u, v, ws = make_ws(u, v)\n",
    "    u  = u[0,::s,::s]\n",
    "    v  = v[0,::s,::s]\n",
    "    ws = ws[0,::s,::s]"
   ]
  },
  {
   "cell_type": "code",
   "execution_count": null,
   "id": "0ab91169",
   "metadata": {},
   "outputs": [],
   "source": [
    "def dstLatLon(lat, lon, heading, l): \n",
    "    lat0=l/(40000*1000)*360 # 地球１周(m)/360°\n",
    "    lon0=l/(40000*1000)*360/np.cos(lat)\n",
    "    lat0=lat0*np.cos(heading)\n",
    "    lon0=lon0*np.sin(heading)\n",
    "    return lat+lat0, lon+lon0"
   ]
  },
  {
   "cell_type": "code",
   "execution_count": null,
   "id": "0849699d",
   "metadata": {
    "hideOutput": true,
    "scrolled": true
   },
   "outputs": [],
   "source": [
    "f = open('wind.kml', 'w')\n",
    "f.write(\"<?xml version='1.0' encoding='UTF-8'?>\\n\")\n",
    "f.write(\"<kml xmlns='http://earth.google.com/kml/2.2'>\\n\")\n",
    "f.write(\"<Document>\\n   <name>flight</name>\\n\")\n",
    "for k, w in enumerate(winds):\n",
    "    u, v = get_uv(w['height']); u, v, ws = make_ws(u, v)\n",
    "    u  = u[0,::s,::s]; v  = v[0,::s,::s]; ws = ws[0,::s,::s]\n",
    "    alt = w['alt_in_m']*10 # 高度は見やすさのために10倍にしておく\n",
    "    for i in range(lon.shape[0]):    # lat\n",
    "        for j in range(lon.shape[1]): # lon\n",
    "            #if lat[i,j]>0 or lat[i,j]<-60 or lon[i,j]>60 or lon[i,j]<-60:\n",
    "            #    continue\n",
    "            color = int(np.clip(10*int(ws[i,j]),0,255))\n",
    "            lat_d, lon_d = dstLatLon(lat[i,j], lon[i,j],\n",
    "                        np.pi/2-np.arctan2(v[i,j],u[i,j]), ws[i,j]*10000)\n",
    "            f.write(\"<Placemark>\\n        <TimeSpan>\\n          <begin>\"\n",
    "            +'2023-10-18T00:00:00'\n",
    "            +\"</begin>\\n        </TimeSpan>\\n\")        \n",
    "            f.write(\"   <Style>\\n   <LineStyle>\\n\")\n",
    "            f.write(\"   <color>40\"+\n",
    "                   '%02x%02x%02x'%(0, 255-color, color) +\"</color>\\n\") # 色順はABGR\n",
    "            f.write(\"   <width>5</width>\\n   </LineStyle>\\n\")\n",
    "            f.write(\"   </Style>\\n   <LineString>\\n\")\n",
    "            f.write(\"       <extrude>0</extrude>\\n\")\n",
    "            f.write(\"       <altitudeMode>absolute</altitudeMode>\\n\")\n",
    "            f.write(\"        <coordinates>\" \n",
    "            +str(lon[i,j])+\",\"+str(lat[i,j])+\",\"+str(alt)\n",
    "            +\" \"+str(lon_d)+\",\"+str(lat_d)+\",\"+str(alt)+\"</coordinates>\\n\")    \n",
    "            f.write(\"   </LineString>\\n</Placemark>\\n\")    \n",
    "f.write(\"</Document></kml>\\n\"); f.close()"
   ]
  },
  {
   "cell_type": "markdown",
   "id": "5f34f19a",
   "metadata": {},
   "source": [
    "## 投影法をミラー図法表示にするためのコード"
   ]
  },
  {
   "cell_type": "code",
   "execution_count": null,
   "id": "584701bf",
   "metadata": {},
   "outputs": [],
   "source": [
    "def draw_map(u, v,        # 風ベクトル\n",
    "             c,          # 色\n",
    "             s,           # スケール \n",
    "             s_height,    # 人工衛星の高さ  \n",
    "             is_draw_map, # 地図を描くか \n",
    "             filename):\n",
    "\n",
    "# https://yyousuke.github.io/matplotlib/cartopy.html\n",
    "# https://docs.wradlib.org/en/latest/notebooks/visualisation/wradlib_overlay_cartopy.html\n",
    "\n",
    "    # 全球表示\n",
    "    #fig = plt.figure(figsize=(40,40),facecolor='black')\n",
    "    #ax = plt.axes(projection=ccrs.NearsidePerspective(\n",
    "    #      central_longitude=137.0,\n",
    "    #      central_latitude=0,\n",
    "    #      #central_latitude=　38.0,\n",
    "    #      satellite_height=s_height, # 100000000\n",
    "    #      false_easting=0,\n",
    "    #      false_northing=0,\n",
    "    #      globe=None))\n",
    "    \n",
    "    # ミラー図法\n",
    "    fig = plt.figure(figsize=(20,20),facecolor='black')\n",
    "    ax = plt.axes(projection=ccrs.Miller())\n",
    "    ax.set_extent([120, 150, 20, 50])\n",
    "    # ミラー図法(ここまで)\n",
    "\n",
    "    #fig = pl.figure(figsize=(10, 10))\n",
    "    #ax = fig.add_subplot(111, projection=map_proj)\n",
    "\n",
    "    # メルカトル図法\n",
    "    #fig = plt.figure(figsize=(40,40),facecolor='black')\n",
    "    #ax = plt.axes(projection=ccrs.Mercator(central_longitude=135))\n",
    "    # メルカトル図法(ここまで)\n",
    "    \n",
    "    #ax.set_extent([130, 140, 30, 40], crs=ccrs.PlateCarree())\n",
    "\n",
    "    # 周囲を黒で描く場合\n",
    "    #ax.set_facecolor(\"black\")\n",
    "    \n",
    "    #ax.set_global() # 全球を表示させる\n",
    "    #ax.set_extent([110,150,20,60])  \n",
    "    if is_draw_map:\n",
    "        ax.add_feature(cfeature.OCEAN)\n",
    "        ax.add_feature(cfeature.LAND)\n",
    "        ax.add_feature(cfeature.LAKES)\n",
    "        ax.add_feature(cfeature.RIVERS)\n",
    "        ax.add_feature(cfeature.BORDERS)\n",
    "        ax.coastlines(resolution=\"110m\",linewidth=1)\n",
    "        ax.gridlines(linestyle='--',color='black')\n",
    "        #plt.contourf(lon, lat, ws,\n",
    "        #     transform=ccrs.PlateCarree(),cmap=plt.cm.jet)\n",
    "    qv = plt.quiver(lon, lat, \n",
    "                    u, v, \n",
    "                    c,  # 色\n",
    "        transform=ccrs.PlateCarree(),\n",
    "        scale=s, alpha = 1.0,cmap='coolwarm') # cmap='YlOrRd'\n",
    "\n",
    "    #plt.title('MERRA-2 Daily Average 2-meter Wind Speed, 1 June 2010', size=14)\n",
    "    #cb = plt.colorbar(ax=ax, orientation=\"vertical\", pad=0.02, aspect=16, shrink=0.8)\n",
    "    #cb.set_label('m/s',size=12,rotation=0,labelpad=15)\n",
    "    #cb.ax.tick_params(labelsize=10)\n",
    "    \n",
    "    fig.savefig(filename, format='png', dpi=120)"
   ]
  },
  {
   "cell_type": "code",
   "execution_count": null,
   "id": "34959b90",
   "metadata": {},
   "outputs": [],
   "source": [
    "lon, lat = np.meshgrid(get('lon'), # 経度\n",
    "                       get('lat')) # 緯度\n",
    "s = 2 # データ飛ばし\n",
    "lon = lon[::s,::s]\n",
    "lat = lat[::s,::s]\n",
    "print(lon)"
   ]
  },
  {
   "cell_type": "code",
   "execution_count": null,
   "id": "4a362a43",
   "metadata": {},
   "outputs": [],
   "source": [
    "winds = [\n",
    "    {'height':\"2M\",   'file':\"2M.png\",   'map':True, 'scale':500},\n",
    "#\"10M\"\"50M\"は\"T10M\"\"T50M\"がない\n",
    "#    {'height':\"10M\",  'file':\"10M.png\",  'map':False, 'scale':50},\n",
    "#    {'height':\"50M\",  'file':\"50M.png\",  'map':False, 'scale':50},\n",
    "    {'height':\"850\",  'file':\"850.png\",  'map':True, 'scale':500}, # 850hPaは高度約1,500m\n",
    "    {'height':\"500\",  'file':\"500.png\",  'map':True, 'scale':500},  # 5,500m\n",
    "    {'height':\"250\",  'file':\"250.png\",  'map':True, 'scale':500}   # 14,000m\n",
    "]\n",
    "for w in winds:\n",
    "    #u, v = get_uv(w['height'])\n",
    "    u, v = get_uv(w['height'])\n",
    "    u, v, ws = make_ws(u, v)\n",
    "    t  = get('T'+w['height'])\n",
    "    u  = u[0,::s,::s]\n",
    "    v  = v[0,::s,::s]\n",
    "    ws = ws[0,::s,::s]\n",
    "    t  = t[0,::s,::s]\n",
    "    t  = (t-np.min(t))/(np.max(t)-np.min(t))\n",
    "    #draw_map(u, v, t, w['scale'], 100000000000, w['map'], w['file'])\n",
    "    draw_map(u, v, ws, w['scale'], 100000000000, w['map'], w['file'])"
   ]
  },
  {
   "cell_type": "markdown",
   "id": "8563dee5",
   "metadata": {},
   "source": [
    "## 他にもさまざまな条件で描いてみる"
   ]
  },
  {
   "cell_type": "code",
   "execution_count": null,
   "id": "f050a971",
   "metadata": {},
   "outputs": [],
   "source": [
    "lon, lat = np.meshgrid(get('lon'), # 経度\n",
    "                       get('lat')) # 緯度\n",
    "s = 5 # データ飛ばし\n",
    "lon = lon[::s,::s]\n",
    "lat = lat[::s,::s]\n",
    "print(lon)"
   ]
  },
  {
   "cell_type": "code",
   "execution_count": null,
   "id": "daec489f",
   "metadata": {},
   "outputs": [],
   "source": [
    "winds = [\n",
    "    {'height':\"2M\",   'file':\"2M.png\",   'map':True, 'scale':1000},\n",
    "#\"10M\"\"50M\"は\"T10M\"\"T50M\"がない\n",
    "#    {'height':\"10M\",  'file':\"10M.png\",  'map':False, 'scale':50},\n",
    "#    {'height':\"50M\",  'file':\"50M.png\",  'map':False, 'scale':50},\n",
    "    {'height':\"850\",  'file':\"850.png\",  'map':True, 'scale':1000}, # 850hPaは高度約1,500m\n",
    "    {'height':\"500\",  'file':\"500.png\",  'map':True, 'scale':1000},  # 5,500m\n",
    "    {'height':\"250\",  'file':\"250.png\",  'map':True, 'scale':1000}   # 14,000m\n",
    "]\n",
    "for w in winds:\n",
    "    #u, v = get_uv(w['height'])\n",
    "    u, v = get_uv(w['height'])\n",
    "    u, v, ws = make_ws(u, v)\n",
    "    t  = get('T'+w['height'])\n",
    "    u  = u[0,::s,::s]\n",
    "    v  = v[0,::s,::s]\n",
    "    ws = ws[0,::s,::s]\n",
    "    t  = t[0,::s,::s]\n",
    "    t  = (t-np.min(t))/(np.max(t)-np.min(t))\n",
    "    #draw_map(u, v, t, w['scale'], 100000000000, w['map'], w['file'])\n",
    "    draw_map(u, v, ws, w['scale'], 100000000000, w['map'], w['file'])"
   ]
  },
  {
   "cell_type": "code",
   "execution_count": null,
   "id": "828a587c",
   "metadata": {},
   "outputs": [],
   "source": [
    "lon, lat = np.meshgrid(get('lon'), # 経度\n",
    "                       get('lat')) # 緯度\n",
    "s = 1 # データ飛ばし\n",
    "lon = lon[::s,::s]\n",
    "lat = lat[::s,::s]\n",
    "print(lon)"
   ]
  },
  {
   "cell_type": "code",
   "execution_count": null,
   "id": "64069db9",
   "metadata": {},
   "outputs": [],
   "source": [
    "winds = [\n",
    "    {'height':\"2M\",   'file':\"2M.png\",   'map':True, 'scale':200},\n",
    "#\"10M\"\"50M\"は\"T10M\"\"T50M\"がない\n",
    "#    {'height':\"10M\",  'file':\"10M.png\",  'map':False, 'scale':50},\n",
    "#    {'height':\"50M\",  'file':\"50M.png\",  'map':False, 'scale':50},\n",
    "    {'height':\"850\",  'file':\"850.png\",  'map':True, 'scale':200}, # 850hPaは高度約1,500m\n",
    "    {'height':\"500\",  'file':\"500.png\",  'map':True, 'scale':200},  # 5,500m\n",
    "    {'height':\"250\",  'file':\"250.png\",  'map':True, 'scale':200}   # 14,000m\n",
    "]\n",
    "for w in winds:\n",
    "    #u, v = get_uv(w['height'])\n",
    "    u, v = get_uv(w['height'])\n",
    "    u, v, ws = make_ws(u, v)\n",
    "    t  = get('T'+w['height'])\n",
    "    u  = u[0,::s,::s]\n",
    "    v  = v[0,::s,::s]\n",
    "    ws = ws[0,::s,::s]\n",
    "    t  = t[0,::s,::s]\n",
    "    t  = (t-np.min(t))/(np.max(t)-np.min(t))\n",
    "    draw_map(u, v, t, w['scale'], 100000000000, w['map'], w['file'])\n",
    "    #draw_map(u, v, ws, w['scale'], 100000000000, w['map'], w['file'])"
   ]
  },
  {
   "cell_type": "code",
   "execution_count": null,
   "id": "d6cdbc9b",
   "metadata": {},
   "outputs": [],
   "source": []
  },
  {
   "cell_type": "code",
   "execution_count": null,
   "id": "987f880e",
   "metadata": {},
   "outputs": [],
   "source": [
    "winds = [\n",
    "    {'height':\"2M\",   'file':\"2M.png\",   'map':True, 'scale':200},\n",
    "#\"10M\"\"50M\"は\"T10M\"\"T50M\"がない\n",
    "#    {'height':\"10M\",  'file':\"10M.png\",  'map':False, 'scale':50},\n",
    "#    {'height':\"50M\",  'file':\"50M.png\",  'map':False, 'scale':50},\n",
    "    {'height':\"850\",  'file':\"850.png\",  'map':False, 'scale':300},\n",
    "    {'height':\"500\",  'file':\"500.png\",  'map':False, 'scale':500},\n",
    "    {'height':\"250\",  'file':\"250.png\",  'map':False, 'scale':1000}\n",
    "]\n",
    "for w in winds:\n",
    "    u, v = get_uv(w['height'])\n",
    "    t = get('T'+w['height'])\n",
    "    #u, v, ws = make_ws(u, v)\n",
    "    u=u[0,::s,::s]\n",
    "    v=v[0,::s,::s]\n",
    "    #ws=ws[0,::s,::s]\n",
    "    t=t[0,::s,::s]\n",
    "    t = (t-np.min(t))/(np.max(t)-np.min(t))\n",
    "    #draw_map(u, v, ws, 100, 100000000, w['map'], w['file'])\n",
    "    draw_map(u, v, t, w['scale'], 100000000, w['map'], w['file'])"
   ]
  },
  {
   "cell_type": "code",
   "execution_count": null,
   "id": "46f965b8",
   "metadata": {},
   "outputs": [],
   "source": []
  },
  {
   "cell_type": "code",
   "execution_count": null,
   "id": "1caac2ee",
   "metadata": {},
   "outputs": [],
   "source": []
  },
  {
   "cell_type": "code",
   "execution_count": null,
   "id": "85a9d383",
   "metadata": {},
   "outputs": [],
   "source": [
    "lon, lat = np.meshgrid(get('lon'), # 経度\n",
    "                       get('lat')) # 緯度\n",
    "s = 2 # データ飛ばし\n",
    "lon = lon[::s,::s]\n",
    "lat = lat[::s,::s]"
   ]
  },
  {
   "cell_type": "code",
   "execution_count": null,
   "id": "08e83753",
   "metadata": {},
   "outputs": [],
   "source": [
    "winds = [\n",
    "    {'height':\"2M\",   'file':\"2M.png\",   'map':True, 'scale':200},\n",
    "#\"10M\"\"50M\"は\"T10M\"\"T50M\"がない\n",
    "#    {'height':\"10M\",  'file':\"10M.png\",  'map':False, 'scale':50},\n",
    "#    {'height':\"50M\",  'file':\"50M.png\",  'map':False, 'scale':50},\n",
    "    {'height':\"850\",  'file':\"850.png\",  'map':False, 'scale':300},\n",
    "    {'height':\"500\",  'file':\"500.png\",  'map':False, 'scale':500},\n",
    "    {'height':\"250\",  'file':\"250.png\",  'map':False, 'scale':1000}\n",
    "]\n",
    "for w in winds:\n",
    "    u, v = get_uv(w['height'])\n",
    "    t = get('T'+w['height'])\n",
    "    #u, v, ws = make_ws(u, v)\n",
    "    u=u[0,::s,::s]\n",
    "    v=v[0,::s,::s]\n",
    "    #ws=ws[0,::s,::s]\n",
    "    t=t[0,::s,::s]\n",
    "    t = (t-np.min(t))/(np.max(t)-np.min(t))\n",
    "    #draw_map(u, v, ws, 100, 100000000, w['map'], w['file'])\n",
    "    draw_map(u, v, t, w['scale'], 2000000, w['map'], w['file'])"
   ]
  },
  {
   "cell_type": "code",
   "execution_count": null,
   "id": "d1ee6810",
   "metadata": {},
   "outputs": [],
   "source": [
    "from PIL import Image\n",
    "margin = 100\n",
    "background = Image.open(\"2M.png\")\n",
    "for i, w in enumerate(winds):\n",
    "    if w['height'] != '2M':\n",
    "        foreground = Image.open(w['file'])\n",
    "        foreground = foreground.resize(\n",
    "            (foreground.width+margin*i*2, foreground.height+margin*i*2) )\n",
    "        background.putalpha(255)\n",
    "        foreground.putalpha(100)\n",
    "        background.paste(foreground,(-margin*i,-margin*i),foreground)\n",
    "plt.imshow(background)\n",
    "\n",
    "background.save(\"total.png\")"
   ]
  },
  {
   "cell_type": "code",
   "execution_count": null,
   "id": "9a693d19",
   "metadata": {},
   "outputs": [],
   "source": [
    "from PIL import Image\n",
    "\n",
    "background = Image.open(\"MERRA2_2m_ws.png\")\n",
    "foreground = Image.open(\"MERRA2_2m_ws_.png\")\n",
    "foreground = foreground.resize(\n",
    "    (foreground.width+50*2, foreground.height+50*2)\n",
    ")\n",
    "\n",
    "background.putalpha(255)\n",
    "foreground.putalpha(128)\n",
    "background.paste(foreground,(-50,-50),foreground)\n",
    "#background.paste(foreground, (0, 0), foreground)\n",
    "plt.imshow(background)"
   ]
  },
  {
   "cell_type": "code",
   "execution_count": null,
   "id": "caa0af22",
   "metadata": {},
   "outputs": [],
   "source": [
    "draw_map(u, v, ws, 10000000, True, 'MERRA2_2m_ws_.png')"
   ]
  },
  {
   "cell_type": "code",
   "execution_count": null,
   "id": "89de942a",
   "metadata": {},
   "outputs": [],
   "source": [
    "winds = [\n",
    "    {'height':\"2M\",   'file':\"2M.png\",   'map':True},\n",
    "]\n",
    "for w in winds:\n",
    "    U, V = get_uv(w['height']) # 地上2m高さの東西方向(m/s)\n",
    "    u, v, ws = fill_with_nan(U, V)\n",
    "    u=u[0,::s,::s]; v=v[0,::s,::s]; ws=ws[0,::s,::s]\n",
    "    draw_map(u, v, ws, 500, 100000000, w['map'], w['file'])"
   ]
  },
  {
   "cell_type": "code",
   "execution_count": null,
   "id": "29eaff03",
   "metadata": {},
   "outputs": [],
   "source": [
    "from cartopy.mpl.gridliner import LONGITUDE_FORMATTER, LATITUDE_FORMATTER\n",
    "import matplotlib.ticker as mticker\n",
    "\n",
    "# Set the figure size, projection, and extent\n",
    "fig = plt.figure(figsize=(9,5))\n",
    "ax = plt.axes(projection=ccrs.PlateCarree())\n",
    "\n",
    "#ax.set_extent([-62,-38,35,54])  \n",
    "ax.set_extent([120,150,30,50])  \n",
    "\n",
    "ax.coastlines(resolution=\"50m\",linewidth=1)\n",
    "\n",
    "gl = ax.gridlines(crs=ccrs.PlateCarree(), draw_labels=True,\n",
    "                  linewidth=1, color='black', linestyle='--')\n",
    "gl.xlabels_top = False\n",
    "gl.ylabels_right = False\n",
    "gl.xlines = True\n",
    "gl.xlocator = mticker.FixedLocator([130,135,140]) # 描く経度線のリスト\n",
    "gl.ylocator = mticker.FixedLocator([35,40,45])         # 描く緯度線のリスト\n",
    "gl.xformatter = LONGITUDE_FORMATTER\n",
    "gl.yformatter = LATITUDE_FORMATTER\n",
    "gl.xlabel_style = {'size':10, 'color':'black'}\n",
    "gl.ylabel_style = {'size':10, 'color':'black'}\n",
    "\n",
    "# 風速(速さ)\n",
    "clevs = np.arange(0,14.5,1)\n",
    "plt.contourf(lon, lat, ws, clevs, transform=ccrs.PlateCarree(),cmap=plt.cm.jet)\n",
    "#plt.title('MERRA-2 2m Wind Speed and Direction, 00Z 1 June 2010', size=16)\n",
    "cb = plt.colorbar(ax=ax, orientation=\"vertical\", pad=0.02, aspect=16, shrink=0.8)\n",
    "cb.set_label('m/s',size=14,rotation=0,labelpad=15)\n",
    "cb.ax.tick_params(labelsize=10)\n",
    "\n",
    "# 風速（ベクトル）\n",
    "qv = plt.quiver(lon, lat, \n",
    "                u, \n",
    "                v,\n",
    "                ws,\n",
    "                scale=300, color='k')\n",
    "\n",
    "# fig.savefig('MERRA2_2m_wsVECTORS.png', format='png', dpi=120)"
   ]
  },
  {
   "cell_type": "code",
   "execution_count": null,
   "id": "2721ecf4",
   "metadata": {},
   "outputs": [],
   "source": []
  },
  {
   "cell_type": "code",
   "execution_count": null,
   "id": "b0cfacbe",
   "metadata": {},
   "outputs": [],
   "source": []
  }
 ],
 "metadata": {
  "kernelspec": {
   "display_name": "Python 3 (ipykernel)",
   "language": "python",
   "name": "python3"
  },
  "language_info": {
   "codemirror_mode": {
    "name": "ipython",
    "version": 3
   },
   "file_extension": ".py",
   "mimetype": "text/x-python",
   "name": "python",
   "nbconvert_exporter": "python",
   "pygments_lexer": "ipython3",
   "version": "3.8.16"
  },
  "toc": {
   "base_numbering": 1,
   "nav_menu": {},
   "number_sections": false,
   "sideBar": true,
   "skip_h1_title": false,
   "title_cell": "Table of Contents",
   "title_sidebar": "Contents",
   "toc_cell": false,
   "toc_position": {
    "height": "879px",
    "left": "31px",
    "top": "152px",
    "width": "238px"
   },
   "toc_section_display": true,
   "toc_window_display": true
  }
 },
 "nbformat": 4,
 "nbformat_minor": 5
}
